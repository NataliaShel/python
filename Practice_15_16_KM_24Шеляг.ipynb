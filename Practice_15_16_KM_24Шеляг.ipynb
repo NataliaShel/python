{
  "cells": [
    {
      "cell_type": "markdown",
      "metadata": {
        "id": "FMqboNwO4rVs"
      },
      "source": [
        "# **Курс \"Програмування на мові Python\"**"
      ]
    },
    {
      "attachments": {},
      "cell_type": "markdown",
      "metadata": {
        "id": "A2T6MigL5Z06"
      },
      "source": [
        "## **Практичні зайняття №15-16**\n",
        "\n",
        "### Тема: \"Ітератори та генератори. Декоратори\""
      ]
    },
    {
      "cell_type": "markdown",
      "metadata": {
        "id": "cfCdgK2zXm7e"
      },
      "source": [
        "### **Завдання 1 (2 бали)**\n",
        "\n",
        "Розрахуйте коефієнти розкладу [біному Ньютона](https://uk.wikipedia.org/wiki/%D0%91%D1%96%D0%BD%D0%BE%D0%BC_%D0%9D%D1%8C%D1%8E%D1%82%D0%BE%D0%BD%D0%B0) за допомогою генератора.\n",
        "\n",
        "1. Степінь многочлена користувач має вводити з клавіатури (невід'ємне ціле число).\n",
        "\n",
        "2. Програма має підраховувати біноміальні коефіцієнти для біномів усіх степенів, починаючи від 0 і закінчуючи тим, який ввів користувач.\n",
        "\n",
        "3. Коефіцієнти мають виводитись у вигляді трикутника Паскаля.\n",
        "\n",
        "Наприклад, якщо користувач введе число 5, програма має вивести результат:\n",
        "\n",
        "1\n",
        "\n",
        "1 1\n",
        "\n",
        "1 2 1\n",
        "\n",
        "1 3 3 1\n",
        "\n",
        "1 4 6 4 1\n",
        "\n",
        "1 5 10 10 5 1\n"
      ]
    },
    {
      "cell_type": "code",
      "execution_count": null,
      "metadata": {
        "id": "Bku8v9CjE_Qc"
      },
      "outputs": [],
      "source": [
        "import math \n",
        "\n",
        "try:\n",
        "  n = int(input('Введіть n: '))\n",
        "except ValueError:\n",
        "    print(\"Помилка було введено букву або якийсь інший символ, правильно введіть данні.\")\n",
        "  \n",
        "def binom(n):\n",
        "    for i in range(n+1):\n",
        "        for j in range(i+1):\n",
        "            print(math.factorial(i)//(math.factorial(j)*math.factorial(i-j)), end= ' ')\n",
        "        print()\n",
        "\n",
        "binom(n)"
      ]
    },
    {
      "cell_type": "markdown",
      "metadata": {},
      "source": [
        "### **Завдання 2 (1 бал)**\n",
        "\n",
        "Реалізуйте генератор колоди карт (52 штуки). Кожна карта подається у вигляді рядка типу \"*5 diamonds*\".\n",
        "\n",
        "1. 4 масті (diamonds, clubs, hearts, spades) та 13 значень карт мають зберігатись у двох окремих списках (кортежах).\n",
        "\n",
        "2. Значення від 2 до 10 мають гереруватись за допомогою функції range().\n",
        "\n",
        "3. Окрім чисел, у списку значень мають бути присутніми елементи 'A' (Ace - туз), 'J' (Jack - валет), 'Q' (Queen - дама) та 'K' (King - король).\n",
        "\n",
        "4. Карти мають виводитись у порядку від 'A' до 'K'. Порядок виведення мастей не має значення.\n",
        "\n",
        "    *Приклад:*\n",
        "\n",
        "    А diamonds\n",
        "\n",
        "    2 diamonds\n",
        "\n",
        "    ...\n",
        "\n",
        "    K diamonds\n",
        "\n",
        "    A clubs\n",
        "\n",
        "    ...\n",
        "\n",
        "5. Кожна наступна карта має виводитись за допомогою функції next().\n",
        "\n",
        "6. Виведення карт має завершуватись виключенням StopIteration."
      ]
    },
    {
      "cell_type": "code",
      "execution_count": 3,
      "metadata": {},
      "outputs": [
        {
          "name": "stdout",
          "output_type": "stream",
          "text": [
            "diamonds A\n",
            "diamonds 2\n",
            "diamonds 3\n",
            "diamonds 4\n",
            "diamonds 5\n",
            "diamonds 6\n",
            "diamonds 7\n",
            "diamonds 8\n",
            "diamonds 9\n",
            "diamonds 10\n",
            "diamonds J\n",
            "diamonds Q\n",
            "diamonds K\n",
            "clubs A\n",
            "clubs 2\n",
            "clubs 3\n",
            "clubs 4\n",
            "clubs 5\n",
            "clubs 6\n",
            "clubs 7\n",
            "clubs 8\n",
            "clubs 9\n",
            "clubs 10\n",
            "clubs J\n",
            "clubs Q\n",
            "clubs K\n",
            "hearts A\n",
            "hearts 2\n",
            "hearts 3\n",
            "hearts 4\n",
            "hearts 5\n",
            "hearts 6\n",
            "hearts 7\n",
            "hearts 8\n",
            "hearts 9\n",
            "hearts 10\n",
            "hearts J\n",
            "hearts Q\n",
            "hearts K\n",
            "spade A\n",
            "spade 2\n",
            "spade 3\n",
            "spade 4\n",
            "spade 5\n",
            "spade 6\n",
            "spade 7\n",
            "spade 8\n",
            "spade 9\n",
            "spade 10\n",
            "spade J\n",
            "spade Q\n",
            "spade K\n"
          ]
        },
        {
          "ename": "StopIteration",
          "evalue": "",
          "output_type": "error",
          "traceback": [
            "\u001b[1;31m---------------------------------------------------------------------------\u001b[0m",
            "\u001b[1;31mStopIteration\u001b[0m                             Traceback (most recent call last)",
            "Cell \u001b[1;32mIn [3], line 11\u001b[0m\n\u001b[0;32m      9\u001b[0m card\u001b[39m=\u001b[39mcard_generator(suits,values)\n\u001b[0;32m     10\u001b[0m \u001b[39mwhile\u001b[39;00m \u001b[39mTrue\u001b[39;00m:\n\u001b[1;32m---> 11\u001b[0m     \u001b[39mprint\u001b[39m(\u001b[39mnext\u001b[39;49m(card))\n",
            "\u001b[1;31mStopIteration\u001b[0m: "
          ]
        }
      ],
      "source": [
        "suits=['diamonds', 'clubs', 'hearts', 'spade']\n",
        "numer=list(range(2,11))\n",
        "values=[\"A\"]+numer+[\"J\",\"Q\",\"K\"]\n",
        "\n",
        "def card_generator(suits,values):\n",
        "    for j in suits:\n",
        "        for i in values:\n",
        "            yield f\"{j} {i}\"\n",
        "card=card_generator(suits,values)\n",
        "while True:\n",
        "    print(next(card))"
      ]
    },
    {
      "attachments": {},
      "cell_type": "markdown",
      "metadata": {},
      "source": [
        "### **Завдання 3 (3 бали)**\n",
        "\n",
        "Реалізуйте підрахунок площі трикутника з використанням декоратора, який перевірятиме можливість побудови трикутника з трьох введених користувачем сторін.\n",
        "\n",
        "1. Напишіть функцію area_calculation, яка підраховуватиме площу трикутника за трьома сторонами. Для підрахунку можете скористатись формулою Герона.\n",
        "\n",
        "2. Напишіть функцію check, яка перевірятиме правильність введених користувачем значень (значення мають бути додатними числами, не обов'язково цілими).\n",
        "\n",
        "3. Створіть декоратор triangle_ineq, який перевірятиме виконання нерівності трикутрика для трьох заданих користувачем сторін. Навісьте декоратор triangle_ineq на функція area_calculation та перевірте правильність роботи програми."
      ]
    },
    {
      "cell_type": "code",
      "execution_count": 3,
      "metadata": {},
      "outputs": [
        {
          "name": "stdout",
          "output_type": "stream",
          "text": [
            "Площа трикутника: 18.0\n"
          ]
        }
      ],
      "source": [
        "import math\n",
        "\n",
        "def check():\n",
        "    try:        \n",
        "        a = float(input('Введіть a : '))\n",
        "        b = float(input('Введіть b : '))\n",
        "        c = float(input('Введіть c : '))\n",
        "        if a<=0 or b<=0 or c <= 0:\n",
        "            raise ValueError      \n",
        "    except:\n",
        "        return False\n",
        "    return a, b, c\n",
        "  \n",
        "def triangle_ineq(func):\n",
        "  def triangle(a, b, c):\n",
        "        if (a + b > c) and (a + c > b) and (b + c > a):\n",
        "            return func(a,b,c)\n",
        "        else:\n",
        "            return \"Це не трикутник!\"\n",
        "  return triangle\n",
        "\n",
        "@triangle_ineq\n",
        "def area_calculation(a, b, c):\n",
        "  p=(a+b+c)/2\n",
        "  return (p*(p-a)*(p-b)*(p-b))**0.5\n",
        "\n",
        "check = check()\n",
        "if check == False:\n",
        "    print('Значення неправильні!')\n",
        "else:\n",
        "    a, b, c = check\n",
        "    print(\"Площа трикутника:\", area_calculation(a, b, c))"
      ]
    }
  ],
  "metadata": {
    "colab": {
      "collapsed_sections": [],
      "name": "Practice_10-11_KM_01_.ipynb",
      "provenance": []
    },
    "kernelspec": {
      "display_name": "Python 3",
      "language": "python",
      "name": "python3"
    },
    "language_info": {
      "codemirror_mode": {
        "name": "ipython",
        "version": 3
      },
      "file_extension": ".py",
      "mimetype": "text/x-python",
      "name": "python",
      "nbconvert_exporter": "python",
      "pygments_lexer": "ipython3",
      "version": "3.10.7"
    },
    "vscode": {
      "interpreter": {
        "hash": "26de051ba29f2982a8de78e945f0abaf191376122a1563185a90213a26c5da77"
      }
    }
  },
  "nbformat": 4,
  "nbformat_minor": 0
}
