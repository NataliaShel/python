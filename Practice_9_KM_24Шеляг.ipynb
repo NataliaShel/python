{
  "cells": [
    {
      "cell_type": "markdown",
      "metadata": {
        "id": "FMqboNwO4rVs"
      },
      "source": [
        "# **Курс \"Програмування на мові Python\"**"
      ]
    },
    {
      "cell_type": "markdown",
      "metadata": {
        "id": "A2T6MigL5Z06"
      },
      "source": [
        "## **Практичне зайняття №9**\n",
        "\n",
        "### Тема: \"Робота з функціями. Локальні та глобальні змінні\""
      ]
    },
    {
      "cell_type": "markdown",
      "metadata": {
        "id": "cfCdgK2zXm7e"
      },
      "source": [
        "### **Завдання 1 (3 бали)**\n",
        "\n",
        "**Підрахувати визначник матриці, використовуючи правило перестановок.**\n",
        "\n",
        "Функція random_matrix() призначена для створення квадратної матриці випадкових чисел. Її змінювати непотрібно.\n",
        "\n",
        "Приклад використання методу permutations() для створення списку перестановок також подається у комірці з кодом.\n",
        "\n",
        "1) Створити 3 функції: функцію створення списку перестановок, функцію підрахунку добутків та функцію підрахунку загальної суми.\n",
        "\n",
        "2) Кожна функція має супроводжуватись рядком документації, що буде коротко описувати її призначення.\n",
        "\n",
        "3) Розмірність квадратної матриці має вводитись користувачем з клавіатури. Підрахунки виконувати лише в тому разі, якщо користувач введе ціле додатне число.\n",
        "\n",
        "4) Загальний результат повинен підраховуватись за допомогою композиції функцій.\n",
        "\n",
        "За бажанням можна перевірити правильність роботи програми за допомогою функції np.linalg.det(a)."
      ]
    },
    {
      "cell_type": "code",
      "execution_count": 11,
      "metadata": {
        "id": "ifNX2M7LXm7f"
      },
      "outputs": [
        {
          "name": "stdout",
          "output_type": "stream",
          "text": [
            "<function random_matrix at 0x00000256B3C77130>\n"
          ]
        }
      ],
      "source": [
        "import numpy as np\n",
        "import itertools\n",
        "import math\n",
        "import functools\n",
        "\n",
        "def random_matrix(dim):\n",
        "\t'''\n",
        "\tФункція генерує масив dim x dim\n",
        "  цілих чисел від 0 до 10\n",
        "\t'''\n",
        "\tmatrix=np.random.randint(10,size = (dim, dim))\n",
        "\treturn matrix\n",
        "\n",
        "def permutation(n,matrix):\n",
        "    permutation=[]\n",
        "    list1=[]\n",
        "    '''\n",
        "    Функція створення списку перестановок елементів матриці\n",
        "    '''\n",
        "    reshuffle=math.factorial(n)\n",
        "    for i in range(n):\n",
        "        list1.append(str(i))\n",
        "    list1=tuple(map(int,list1))\n",
        "    t=list(itertools.permutations(list1,n))\n",
        "    t=list(map(list,t))\n",
        "    list2=[]\n",
        "    for e in t:\n",
        "        v = 0\n",
        "        index = 1\n",
        "        for i in range(len(e)):\n",
        "            for s in range(i):\n",
        "                if e[s] > e[i]:\n",
        "                    v += 1\n",
        "        if v % 2 == 0 or v == 0:\n",
        "            list2.append(index)\n",
        "        else:\n",
        "            list2.append((-1)*(index))\n",
        "    for j in range(reshuffle):\n",
        "        intermediate_list=[]   \n",
        "        for i in range(n):\n",
        "            intermediate_list.append(matrix[i][t[j][i]])\n",
        "            if i==0:\n",
        "                intermediate_list[0]=intermediate_list[0]*list2[j]\n",
        "            if i==n-1:\n",
        "                permutation.append(intermediate_list)\n",
        "    return permutation\n",
        "\n",
        "def calculation(permutation):\n",
        "    '''\n",
        "    Ця функція працює з інверсіями та виконує операцію множення\n",
        "    '''\n",
        "    calculation=[]\n",
        "    for el in permutation:\n",
        "        calculation.append(functools.reduce(lambda a,b: a*b,el))\n",
        "    return calculation\n",
        "\n",
        "def zagal_sum(calculation):\n",
        "    '''\n",
        "    Ця функція збирає результати разом\n",
        "    '''\n",
        "    zagal_sum=sum(calculation)\n",
        "    return zagal_sum\n",
        "\n",
        "n = None\n",
        "'''\n",
        "Вибір розмірності матриці\n",
        "'''\n",
        "try:\n",
        "    n = int(input(\"Введіть розмірність матриці: \"))\n",
        "    if n <= 0:\n",
        "      raise ZeroDivisionError('Число має бути більше нуля.')\n",
        "except ZeroDivisionError as arr:\n",
        "    print(arr)\n",
        "except:\n",
        "    print(\"Не правильно введено.\")\n",
        "else:\n",
        "    matrix = random_matrix(n)\n",
        "  \n",
        "\n",
        "    print(str(matrix)[1:-1])\n",
        "    print(\"Визначник матриці : \", zagal_sum(calculation(permutation(n,matrix))))"
      ]
    }
  ],
  "metadata": {
    "colab": {
      "collapsed_sections": [],
      "name": "Practice_7_KM-01_.ipynb",
      "provenance": []
    },
    "kernelspec": {
      "display_name": "Python 3",
      "language": "python",
      "name": "python3"
    },
    "language_info": {
      "codemirror_mode": {
        "name": "ipython",
        "version": 3
      },
      "file_extension": ".py",
      "mimetype": "text/x-python",
      "name": "python",
      "nbconvert_exporter": "python",
      "pygments_lexer": "ipython3",
      "version": "3.10.7 (tags/v3.10.7:6cc6b13, Sep  5 2022, 14:08:36) [MSC v.1933 64 bit (AMD64)]"
    },
    "vscode": {
      "interpreter": {
        "hash": "26de051ba29f2982a8de78e945f0abaf191376122a1563185a90213a26c5da77"
      }
    }
  },
  "nbformat": 4,
  "nbformat_minor": 0
}
